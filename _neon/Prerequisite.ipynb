{
 "cells": [
  {
   "cell_type": "markdown",
   "id": "f76564be",
   "metadata": {},
   "source": [
    "##### 1: Importing Packages\n",
    "\n",
    "###### 1.1 Installing neonUtilities R Package\n",
    "To begin, we need to ensure that the `neonUtilities` package is installed. If you haven't installed it previously, you can easily do so by following these steps:"
   ]
  },
  {
   "cell_type": "code",
   "execution_count": null,
   "id": "c48f2c81",
   "metadata": {},
   "outputs": [],
   "source": [
    "from rpy2 import robjects\n",
    "from rpy2.robjects.packages import importr\n",
    "utils = importr('utils')\n",
    "utils.install_packages('neonUtilities', repos='https://cran.rstudio.com/')"
   ]
  },
  {
   "cell_type": "markdown",
   "id": "ea581018",
   "metadata": {},
   "source": [
    "<div class=\"alert alert-block alert-info\">\n",
    "<b>NOTE:</b> This step is required only once. If you have already installed neonUtilities in R, you can skip this step.\n",
    "</div>"
   ]
  },
  {
   "cell_type": "markdown",
   "id": "127daa2f",
   "metadata": {},
   "source": [
    "###### 1.2 Loading Necessary Packages\n",
    "\n",
    "Now that we have installed the required R package, let's load the necessary Python packages for this tutorial. Run the following code to import the required libraries:"
   ]
  },
  {
   "cell_type": "code",
   "execution_count": 1,
   "id": "52ea099b",
   "metadata": {},
   "outputs": [],
   "source": [
    "from rpy2.rinterface_lib.callbacks import logger as rpy2_logger\n",
    "import logging\n",
    "import os\n",
    "import pandas as pd\n",
    "import numpy as np\n",
    "import matplotlib.pyplot as plt\n",
    "from rpy2.robjects import r as base\n",
    "from rpy2.robjects.packages import importr\n",
    "# Set logging level to suppress R messages\n",
    "rpy2_logger.setLevel(logging.ERROR)\n",
    "# Load R's base, utils, and stats packages\n",
    "base = importr('base')\n",
    "utils = importr('utils')\n",
    "stats = importr('stats')\n",
    "# Importing R packages via rpy2\n",
    "neonUtilities = importr('neonUtilities')\n",
    "os.environ['R_HOME'] = '/Library/Frameworks/R.framework/Resources'"
   ]
  },
  {
   "cell_type": "markdown",
   "id": "9aeb0581",
   "metadata": {},
   "source": [
    "By using `importr` from `rpy2`, we import the core R packages `base`, `utils`, and `stats` for general-purpose operations within the R environment.\n",
    "****\n",
    "**Key Points:**\n",
    "<ul>\n",
    " <li>The neonUtilities package is installed within the R environment, not directly in Python.</li>\n",
    " <li>rpy2 acts as a bridge, allowing Python to interact with R objects and packages.</li>\n",
    " <li>Remember to adjust the R path if your installation differs from the provided example.</li>\n",
    " </ul>\n",
    "\n",
    "***\n",
    "**Next Steps:**\n",
    "\n",
    "We'll proceed with using the `neonUtilities` package through `rpy2` to access and process NEON data from Python.\n",
    "By following these steps, you'll have a well-prepared Python environment to leverage the neonUtilities R package for analyzing NEON data in your Jupyter Notebook."
   ]
  },
  {
   "cell_type": "markdown",
   "id": "8e2ecfdd",
   "metadata": {},
   "source": [
    "<div class=\"alert alert-block alert-warning\">\n",
    "    <b> NOTE: </b> Ensure that you have R installed on your system and the necessary paths are correctly configured. If you're using Jupyter Notebook, you can set the R home directory as shown in the last line of code above. This line ensures that Python can locate your R installation. If your R installation path is different, replace the provided path accordingly.\n",
    "</div>"
   ]
  },
  {
   "cell_type": "markdown",
   "id": "bea7e796",
   "metadata": {},
   "source": [
    "This section provides a structured approach to installing the `neonUtilities` package in R and importing the required Python packages for data processing. Ensure to execute these steps sequentially for a seamless experience with the tutorial.\n",
    "\n",
    "Feel free to adjust the instructions or add any additional information to better suit your tutorial's context."
   ]
  }
 ],
 "metadata": {
  "kernelspec": {
   "display_name": "Python 3 (ipykernel)",
   "language": "python",
   "name": "python3"
  },
  "language_info": {
   "codemirror_mode": {
    "name": "ipython",
    "version": 3
   },
   "file_extension": ".py",
   "mimetype": "text/x-python",
   "name": "python",
   "nbconvert_exporter": "python",
   "pygments_lexer": "ipython3",
   "version": "3.11.8"
  }
 },
 "nbformat": 4,
 "nbformat_minor": 5
}
