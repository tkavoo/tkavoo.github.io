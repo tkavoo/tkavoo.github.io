{
 "cells": [
  {
   "cell_type": "markdown",
   "id": "f76564be",
   "metadata": {},
   "source": [
    "#### 2. NEON Utilities Tools\n",
    "\n",
    "In this section, we'll explore how to efficiently work with **NEON** data directly from the [NEON API](http://data.neonscience.org/data-api) using the powerful tools provided by `neonUtilities`. This approach allows us to seamlessly download and organize data for further analysis.\n",
    "\n",
    "##### 2.1 Choosing Your Download Approach:\n",
    "\n",
    "The tutorial offers two approaches for working with NEON data:\n",
    "***\n",
    "- **Downloading data directly from the NEON API (current focus):** This method retrieves data using Python and neonUtilities. You'll provide specific details about the data you want.\n",
    "- **Working with already downloaded data:** If you have NEON data locally, there are alternative methods for processing it [here](https://www.neonscience.org/resources/learning-hub/tutorials/download-explore-neon-data).\n",
    "***\n",
    "##### 2.2 Downloading Data with zipsByProduct():\n",
    "\n",
    "To begin, we utilize the `zipsByProduct()` function to download specific data products from NEON. This function requires essential details such as the Data Product ID (DPID), date range, site IDs, download package type, file save path, and whether to check download size.\n",
    "\n",
    "Here's a breakdown of its arguments:\n",
    "\n",
    "- `dpID`: The data product identifier (DPID) found on the [NEON](http://data.neonscience.org/data-products/explore) Explore Data page.\n",
    "- `startdate`: The start date for data retrieval in YYYY-MM format (e.g., \"2020-01\").\n",
    "- `enddate`: The end date for data retrieval in YYYY-MM format (e.g., \"2021-12\").\n",
    "- `site`: A character vector containing 4-letter site IDs (e.g., 'TALL'). You can use \"all\" for all sites.\n",
    "- `savepath`: The local directory where downloaded data will be saved. Adjust the path as needed.\n",
    "- `package`: Choose `\"basic\"` (default) or `\"expanded\"` depending on data needs.\n",
    "- `check_size`: Set to `TRUE` (default) to verify download size before proceeding, or `FALSE` to skip this check."
   ]
  },
  {
   "cell_type": "code",
   "execution_count": 7,
   "id": "83c1235d",
   "metadata": {},
   "outputs": [],
   "source": [
    "from rpy2.rinterface_lib.callbacks import logger as rpy2_logger\n",
    "import logging\n",
    "import os\n",
    "import pandas as pd\n",
    "import numpy as np\n",
    "import matplotlib.pyplot as plt\n",
    "from rpy2.robjects import r as base\n",
    "from rpy2.robjects.packages import importr\n",
    "# Set logging level to suppress R messages\n",
    "rpy2_logger.setLevel(logging.ERROR)\n",
    "# Load R's base, utils, and stats packages\n",
    "base = importr('base')\n",
    "utils = importr('utils')\n",
    "stats = importr('stats')\n",
    "# Importing R packages via rpy2\n",
    "neonUtilities = importr('neonUtilities')\n",
    "os.environ['R_HOME'] = '/Library/Frameworks/R.framework/Resources'"
   ]
  },
  {
   "cell_type": "markdown",
   "id": "9f0538e2",
   "metadata": {},
   "source": [
    "<div class=\"alert alert-block alert-info\">\n",
    "<b>NOTE:</b> Note: Ensure you have the correct DPID and site IDs for the data you intend to download. Adjust the savepath parameter to your desired location.\n",
    "</div>"
   ]
  },
  {
   "cell_type": "markdown",
   "id": "f8f1fc04",
   "metadata": {},
   "source": [
    "##### 2.3 Downloading Specific Soil Data:\n",
    "The code examples demonstrate downloading three types of soil data:\n",
    "- **Soil Moisture Content**"
   ]
  },
  {
   "cell_type": "code",
   "execution_count": null,
   "id": "838c591b",
   "metadata": {},
   "outputs": [
    {
     "name": "stdout",
     "output_type": "stream",
     "text": [
      "Finding available files\n",
      "  |======================================================================| 100%\n",
      "Provisional data were excluded from available files list. To download provisional data, use input parameter include.provisional=TRUE.\n"
     ]
    }
   ],
   "source": [
    "neonUtilities.zipsByProduct(dpID='DP1.00094.001',\n",
    "                             startdate=\"2017-01\",\n",
    "                             enddate=\"2023-12\",\n",
    "                             site=base.c('TALL'),\n",
    "                             savepath='/Volumes/Thomas/Tutorials/NEON/',  # Replace with your path\n",
    "                             package='basic',\n",
    "                             timeIndex = \"1\",\n",
    "                             check_size='TRUE')"
   ]
  },
  {
   "cell_type": "code",
   "execution_count": 3,
   "id": "c9316adc",
   "metadata": {},
   "outputs": [
    {
     "name": "stdout",
     "output_type": "stream",
     "text": [
      "Finding available files\n",
      "  |======================================================================| 100%\n",
      "Provisional data were excluded from available files list. To download provisional data, use input parameter include.provisional=TRUE.\n",
      "Continuing will download files totaling approximately 494.151871 MB. Do you want to proceed y/n: y\n",
      "Downloading 2577 files\n",
      "  |======================================================================| 100%\n",
      "2577 files successfully downloaded to /Volumes/Thomas/Tutorials/NEON/Data//filesToStack00094\n"
     ]
    },
    {
     "data": {
      "text/plain": [
       "<rpy2.rinterface_lib.sexp.NULLType object at 0x14bcc10d0> [0]"
      ]
     },
     "execution_count": 3,
     "metadata": {},
     "output_type": "execute_result"
    }
   ],
   "source": [
    "neonUtilities.zipsByProduct(dpID='DP1.00094.001',\n",
    "                             startdate=\"2017-01\",\n",
    "                             enddate=\"2023-12\",\n",
    "                             site=base.c('TALL'),\n",
    "                             savepath='/Volumes/Thomas/Tutorials/NEON/Data/',  # Replace with your path\n",
    "                             package='basic',\n",
    "                             timeIndex = \"30\",\n",
    "                             check_size='TRUE')"
   ]
  },
  {
   "cell_type": "markdown",
   "id": "39ca7960",
   "metadata": {},
   "source": [
    "- **Soil Temperature**"
   ]
  },
  {
   "cell_type": "code",
   "execution_count": 4,
   "id": "d21fab6f",
   "metadata": {},
   "outputs": [
    {
     "name": "stdout",
     "output_type": "stream",
     "text": [
      "Finding available files\n",
      "  |======================================================================| 100%\n",
      "Provisional data were excluded from available files list. To download provisional data, use input parameter include.provisional=TRUE.\n",
      "Continuing will download files totaling approximately 450.134447 MB. Do you want to proceed y/n: y\n",
      "Downloading 3207 files\n",
      "  |======================================================================| 100%\n",
      "3207 files successfully downloaded to /Volumes/Thomas/Tutorials/NEON/Data//filesToStack00041\n"
     ]
    },
    {
     "data": {
      "text/plain": [
       "<rpy2.rinterface_lib.sexp.NULLType object at 0x14bcc10d0> [0]"
      ]
     },
     "execution_count": 4,
     "metadata": {},
     "output_type": "execute_result"
    }
   ],
   "source": [
    "neonUtilities.zipsByProduct(dpID='DP1.00041.001',\n",
    "                             startdate=\"2017-01\",\n",
    "                             enddate=\"2023-12\",\n",
    "                             site=base.c('TALL'),\n",
    "                             savepath='/Volumes/Thomas/Tutorials/NEON/Data/',  # Replace with your path\n",
    "                             package='basic',\n",
    "                             timeIndex = \"30\",\n",
    "                             check_size='TRUE')"
   ]
  },
  {
   "cell_type": "markdown",
   "id": "2cf8dcb6",
   "metadata": {},
   "source": [
    "- **Soil Carbon Dioxide (CO2) Concentration**"
   ]
  },
  {
   "cell_type": "code",
   "execution_count": 5,
   "id": "911ed55e",
   "metadata": {},
   "outputs": [
    {
     "name": "stdout",
     "output_type": "stream",
     "text": [
      "Finding available files\n",
      "  |======================================================================| 100%\n",
      "Provisional data were excluded from available files list. To download provisional data, use input parameter include.provisional=TRUE.\n",
      "Continuing will download files totaling approximately 145.83331 MB. Do you want to proceed y/n: y\n",
      "Downloading 1079 files\n",
      "  |======================================================================| 100%\n",
      "1079 files successfully downloaded to /Volumes/Thomas/Tutorials/NEON/Data//filesToStack00095\n"
     ]
    },
    {
     "data": {
      "text/plain": [
       "<rpy2.rinterface_lib.sexp.NULLType object at 0x14bcc10d0> [0]"
      ]
     },
     "execution_count": 5,
     "metadata": {},
     "output_type": "execute_result"
    }
   ],
   "source": [
    "neonUtilities.zipsByProduct(dpID='DP1.00095.001',\n",
    "                             startdate=\"2017-01\",\n",
    "                             enddate=\"2023-12\",\n",
    "                             site=base.c('TALL'),\n",
    "                             savepath='/Volumes/Thomas/Tutorials/NEON/Data/',  # Replace with your path\n",
    "                             package='basic',\n",
    "                             timeIndex = \"30\",\n",
    "                             check_size='TRUE')"
   ]
  },
  {
   "cell_type": "markdown",
   "id": "f61d21f3",
   "metadata": {},
   "source": [
    "##### 2.4 Organizing Downloaded Data with stackByTable():\n",
    "\n",
    "Once data is downloaded, use `stackByTable()` to organize it into a more usable format within your specified save path. This function expects the path to the downloaded data directory as input (e.g., the output directory from `zipsByProduct()`):"
   ]
  },
  {
   "cell_type": "code",
   "execution_count": 6,
   "id": "c48f2c81",
   "metadata": {},
   "outputs": [
    {
     "name": "stdout",
     "output_type": "stream",
     "text": [
      "  |                                                  | 0 % ~calculating   |++++++++++++++++++++++++++++++++++++++++++++++++++| 100% elapsed=00s  \n",
      "Stacking operation across a single core.\n",
      "Stacking table ST_30_minute\n",
      "  |                                                  | 0 % ~calculating   |+                                                 | 1 % ~10s           |++                                                | 2 % ~10s           |++                                                | 3 % ~13s           |+++                                               | 4 % ~12s           |+++                                               | 5 % ~11s           |++++                                              | 6 % ~11s           |++++                                              | 7 % ~11s           |+++++                                             | 8 % ~11s           |+++++                                             | 9 % ~12s           |++++++                                            | 10% ~12s           |++++++                                            | 11% ~11s           |+++++++                                           | 12% ~12s           |+++++++                                           | 13% ~11s           |++++++++                                          | 14% ~11s           |++++++++                                          | 15% ~11s           |+++++++++                                         | 16% ~11s           |+++++++++                                         | 17% ~11s           |++++++++++                                        | 18% ~10s           |++++++++++                                        | 19% ~11s           |+++++++++++                                       | 20% ~10s           |+++++++++++                                       | 21% ~10s           |++++++++++++                                      | 22% ~10s           |++++++++++++                                      | 23% ~09s           |+++++++++++++                                     | 24% ~09s           |+++++++++++++                                     | 26% ~09s           |++++++++++++++                                    | 27% ~09s           |++++++++++++++                                    | 28% ~09s           |+++++++++++++++                                   | 29% ~08s           |+++++++++++++++                                   | 30% ~08s           |++++++++++++++++                                  | 31% ~08s           |++++++++++++++++                                  | 32% ~08s           |+++++++++++++++++                                 | 33% ~08s           |+++++++++++++++++                                 | 34% ~08s           |++++++++++++++++++                                | 35% ~08s           |++++++++++++++++++                                | 36% ~08s           |+++++++++++++++++++                               | 37% ~07s           |+++++++++++++++++++                               | 38% ~07s           |++++++++++++++++++++                              | 39% ~07s           |++++++++++++++++++++                              | 40% ~07s           |+++++++++++++++++++++                             | 41% ~07s           |+++++++++++++++++++++                             | 42% ~07s           |++++++++++++++++++++++                            | 43% ~06s           |++++++++++++++++++++++                            | 44% ~06s           |+++++++++++++++++++++++                           | 45% ~06s           |+++++++++++++++++++++++                           | 46% ~06s           |++++++++++++++++++++++++                          | 47% ~06s           |++++++++++++++++++++++++                          | 48% ~06s           |+++++++++++++++++++++++++                         | 49% ~06s           |+++++++++++++++++++++++++                         | 50% ~06s           |++++++++++++++++++++++++++                        | 51% ~05s           |+++++++++++++++++++++++++++                       | 52% ~05s           |+++++++++++++++++++++++++++                       | 53% ~05s           |++++++++++++++++++++++++++++                      | 54% ~05s           |++++++++++++++++++++++++++++                      | 55% ~05s           |+++++++++++++++++++++++++++++                     | 56% ~05s           |+++++++++++++++++++++++++++++                     | 57% ~05s           |++++++++++++++++++++++++++++++                    | 58% ~05s           |++++++++++++++++++++++++++++++                    | 59% ~05s           |+++++++++++++++++++++++++++++++                   | 60% ~04s           |+++++++++++++++++++++++++++++++                   | 61% ~04s           |++++++++++++++++++++++++++++++++                  | 62% ~04s           |++++++++++++++++++++++++++++++++                  | 63% ~04s           |+++++++++++++++++++++++++++++++++                 | 64% ~04s           |+++++++++++++++++++++++++++++++++                 | 65% ~04s           |++++++++++++++++++++++++++++++++++                | 66% ~04s           |++++++++++++++++++++++++++++++++++                | 67% ~04s           |+++++++++++++++++++++++++++++++++++               | 68% ~03s           |+++++++++++++++++++++++++++++++++++               | 69% ~03s           |++++++++++++++++++++++++++++++++++++              | 70% ~03s           |++++++++++++++++++++++++++++++++++++              | 71% ~03s           |+++++++++++++++++++++++++++++++++++++             | 72% ~03s           |+++++++++++++++++++++++++++++++++++++             | 73% ~03s           |++++++++++++++++++++++++++++++++++++++            | 74% ~03s           |++++++++++++++++++++++++++++++++++++++            | 76% ~03s           |+++++++++++++++++++++++++++++++++++++++           | 77% ~03s           |+++++++++++++++++++++++++++++++++++++++           | 78% ~02s           |++++++++++++++++++++++++++++++++++++++++          | 79% ~02s           |++++++++++++++++++++++++++++++++++++++++          | 80% ~02s           |+++++++++++++++++++++++++++++++++++++++++         | 81% ~02s           |+++++++++++++++++++++++++++++++++++++++++         | 82% ~02s           |++++++++++++++++++++++++++++++++++++++++++        | 83% ~02s           |++++++++++++++++++++++++++++++++++++++++++        | 84% ~02s           |+++++++++++++++++++++++++++++++++++++++++++       | 85% ~02s           |+++++++++++++++++++++++++++++++++++++++++++       | 86% ~02s           |++++++++++++++++++++++++++++++++++++++++++++      | 87% ~01s           |++++++++++++++++++++++++++++++++++++++++++++      | 88% ~01s           |+++++++++++++++++++++++++++++++++++++++++++++     | 89% ~01s           |+++++++++++++++++++++++++++++++++++++++++++++     | 90% ~01s           |++++++++++++++++++++++++++++++++++++++++++++++    | 91% ~01s           |++++++++++++++++++++++++++++++++++++++++++++++    | 92% ~01s           |+++++++++++++++++++++++++++++++++++++++++++++++   | 93% ~01s           |+++++++++++++++++++++++++++++++++++++++++++++++   | 94% ~01s           |++++++++++++++++++++++++++++++++++++++++++++++++  | 95% ~01s           |++++++++++++++++++++++++++++++++++++++++++++++++  | 96% ~00s           |+++++++++++++++++++++++++++++++++++++++++++++++++ | 97% ~00s           |+++++++++++++++++++++++++++++++++++++++++++++++++ | 98% ~00s           |++++++++++++++++++++++++++++++++++++++++++++++++++| 99% ~00s           |++++++++++++++++++++++++++++++++++++++++++++++++++| 100% elapsed=11s  \n",
      "Merged the most recent publication of sensor position files for each site and saved to /stackedFiles\n",
      "Copied the most recent publication of variable definition file to /stackedFiles\n",
      "Finished: Stacked 1 data tables and 3 metadata tables!\n",
      "Stacking took 16.64224 secs\n",
      "All unzipped monthly data folders have been removed.\n",
      "  |                                                  | 0 % ~calculating   |++++++++++++++++++++++++++++++++++++++++++++++++++| 100% elapsed=00s  \n",
      "Stacking operation across a single core.\n",
      "Stacking table SCO2C_30_minute\n"
     ]
    },
    {
     "name": "stdout",
     "output_type": "stream",
     "text": [
      "  |                                                  | 0 % ~calculating   |+                                                 | 1 % ~03s           |++                                                | 2 % ~02s           |++                                                | 3 % ~02s           |+++                                               | 4 % ~03s           |+++                                               | 5 % ~03s           |++++                                              | 6 % ~03s           |++++                                              | 7 % ~03s           |+++++                                             | 8 % ~02s           |+++++                                             | 9 % ~02s           |++++++                                            | 10% ~02s           |++++++                                            | 11% ~02s           |+++++++                                           | 12% ~04s           |+++++++                                           | 13% ~03s           |++++++++                                          | 14% ~03s           |++++++++                                          | 15% ~03s           |+++++++++                                         | 16% ~03s           |+++++++++                                         | 17% ~03s           |++++++++++                                        | 18% ~03s           |++++++++++                                        | 19% ~03s           |+++++++++++                                       | 20% ~03s           |+++++++++++                                       | 21% ~03s           |++++++++++++                                      | 22% ~03s           |++++++++++++                                      | 23% ~03s           |+++++++++++++                                     | 24% ~03s           |+++++++++++++                                     | 26% ~02s           |++++++++++++++                                    | 27% ~02s           |++++++++++++++                                    | 28% ~02s           |+++++++++++++++                                   | 29% ~02s           |+++++++++++++++                                   | 30% ~02s           |++++++++++++++++                                  | 31% ~02s           |++++++++++++++++                                  | 32% ~02s           |+++++++++++++++++                                 | 33% ~02s           |+++++++++++++++++                                 | 34% ~02s           |++++++++++++++++++                                | 35% ~02s           |++++++++++++++++++                                | 36% ~02s           |+++++++++++++++++++                               | 37% ~02s           |+++++++++++++++++++                               | 38% ~02s           |++++++++++++++++++++                              | 39% ~02s           |++++++++++++++++++++                              | 40% ~02s           |+++++++++++++++++++++                             | 41% ~02s           |+++++++++++++++++++++                             | 42% ~02s           |++++++++++++++++++++++                            | 43% ~02s           |++++++++++++++++++++++                            | 44% ~02s           |+++++++++++++++++++++++                           | 45% ~02s           |+++++++++++++++++++++++                           | 46% ~02s           |++++++++++++++++++++++++                          | 47% ~02s           |++++++++++++++++++++++++                          | 48% ~02s           |+++++++++++++++++++++++++                         | 49% ~01s           |+++++++++++++++++++++++++                         | 50% ~01s           |++++++++++++++++++++++++++                        | 51% ~01s           |+++++++++++++++++++++++++++                       | 52% ~01s           |+++++++++++++++++++++++++++                       | 53% ~01s           |++++++++++++++++++++++++++++                      | 54% ~01s           |++++++++++++++++++++++++++++                      | 55% ~01s           |+++++++++++++++++++++++++++++                     | 56% ~01s           |+++++++++++++++++++++++++++++                     | 57% ~01s           |++++++++++++++++++++++++++++++                    | 58% ~01s           |++++++++++++++++++++++++++++++                    | 59% ~01s           |+++++++++++++++++++++++++++++++                   | 60% ~01s           |+++++++++++++++++++++++++++++++                   | 61% ~01s           |++++++++++++++++++++++++++++++++                  | 62% ~01s           |++++++++++++++++++++++++++++++++                  | 63% ~01s           |+++++++++++++++++++++++++++++++++                 | 64% ~01s           |+++++++++++++++++++++++++++++++++                 | 65% ~01s           |++++++++++++++++++++++++++++++++++                | 66% ~01s           |++++++++++++++++++++++++++++++++++                | 67% ~01s           |+++++++++++++++++++++++++++++++++++               | 68% ~01s           |+++++++++++++++++++++++++++++++++++               | 69% ~01s           |++++++++++++++++++++++++++++++++++++              | 70% ~01s           |++++++++++++++++++++++++++++++++++++              | 71% ~01s           |+++++++++++++++++++++++++++++++++++++             | 72% ~01s           |+++++++++++++++++++++++++++++++++++++             | 73% ~01s           |++++++++++++++++++++++++++++++++++++++            | 74% ~01s           |++++++++++++++++++++++++++++++++++++++            | 76% ~01s           |+++++++++++++++++++++++++++++++++++++++           | 77% ~01s           |+++++++++++++++++++++++++++++++++++++++           | 78% ~01s           |++++++++++++++++++++++++++++++++++++++++          | 79% ~01s           |++++++++++++++++++++++++++++++++++++++++          | 80% ~01s           |+++++++++++++++++++++++++++++++++++++++++         | 81% ~01s           |+++++++++++++++++++++++++++++++++++++++++         | 82% ~01s           |++++++++++++++++++++++++++++++++++++++++++        | 83% ~00s           |++++++++++++++++++++++++++++++++++++++++++        | 84% ~00s           |+++++++++++++++++++++++++++++++++++++++++++       | 85% ~00s           |+++++++++++++++++++++++++++++++++++++++++++       | 86% ~00s           |++++++++++++++++++++++++++++++++++++++++++++      | 87% ~00s           |++++++++++++++++++++++++++++++++++++++++++++      | 88% ~00s           |+++++++++++++++++++++++++++++++++++++++++++++     | 89% ~00s           |+++++++++++++++++++++++++++++++++++++++++++++     | 90% ~00s           |++++++++++++++++++++++++++++++++++++++++++++++    | 91% ~00s           |++++++++++++++++++++++++++++++++++++++++++++++    | 92% ~00s           |+++++++++++++++++++++++++++++++++++++++++++++++   | 93% ~00s           |+++++++++++++++++++++++++++++++++++++++++++++++   | 94% ~00s           |++++++++++++++++++++++++++++++++++++++++++++++++  | 95% ~00s           |++++++++++++++++++++++++++++++++++++++++++++++++  | 96% ~00s           |+++++++++++++++++++++++++++++++++++++++++++++++++ | 97% ~00s           |+++++++++++++++++++++++++++++++++++++++++++++++++ | 98% ~00s           |++++++++++++++++++++++++++++++++++++++++++++++++++| 99% ~00s           |++++++++++++++++++++++++++++++++++++++++++++++++++| 100% elapsed=03s  \n",
      "Merged the most recent publication of sensor position files for each site and saved to /stackedFiles\n",
      "Copied the most recent publication of variable definition file to /stackedFiles\n",
      "Finished: Stacked 1 data tables and 3 metadata tables!\n",
      "Stacking took 4.80769 secs\n",
      "All unzipped monthly data folders have been removed.\n",
      "  |                                                  | 0 % ~calculating   |++++++++++++++++++++++++++++++++++++++++++++++++++| 100% elapsed=00s  \n",
      "Stacking operation across a single core.\n",
      "Stacking table SWS_30_minute\n"
     ]
    },
    {
     "name": "stdout",
     "output_type": "stream",
     "text": [
      "  |                                                  | 0 % ~calculating   |+                                                 | 1 % ~08s           |++                                                | 2 % ~08s           |++                                                | 3 % ~08s           |+++                                               | 4 % ~08s           |+++                                               | 5 % ~08s           |++++                                              | 6 % ~07s           |++++                                              | 7 % ~07s           |+++++                                             | 8 % ~07s           |+++++                                             | 9 % ~07s           |++++++                                            | 10% ~07s           |++++++                                            | 11% ~07s           |+++++++                                           | 12% ~07s           |+++++++                                           | 13% ~07s           |++++++++                                          | 14% ~07s           |++++++++                                          | 15% ~07s           |+++++++++                                         | 16% ~06s           |+++++++++                                         | 17% ~06s           |++++++++++                                        | 18% ~06s           |++++++++++                                        | 19% ~06s           |+++++++++++                                       | 20% ~06s           |+++++++++++                                       | 21% ~06s           |++++++++++++                                      | 22% ~06s           |++++++++++++                                      | 23% ~06s           |+++++++++++++                                     | 24% ~06s           |+++++++++++++                                     | 25% ~06s           |++++++++++++++                                    | 26% ~06s           |++++++++++++++                                    | 27% ~06s           |+++++++++++++++                                   | 28% ~06s           |+++++++++++++++                                   | 29% ~06s           |++++++++++++++++                                  | 30% ~05s           |++++++++++++++++                                  | 31% ~05s           |+++++++++++++++++                                 | 32% ~05s           |+++++++++++++++++                                 | 33% ~05s           |++++++++++++++++++                                | 34% ~05s           |++++++++++++++++++                                | 35% ~05s           |+++++++++++++++++++                               | 36% ~05s           |+++++++++++++++++++                               | 37% ~05s           |++++++++++++++++++++                              | 38% ~05s           |++++++++++++++++++++                              | 39% ~05s           |+++++++++++++++++++++                             | 40% ~05s           |+++++++++++++++++++++                             | 41% ~05s           |++++++++++++++++++++++                            | 42% ~05s           |++++++++++++++++++++++                            | 43% ~05s           |+++++++++++++++++++++++                           | 44% ~04s           |+++++++++++++++++++++++                           | 45% ~04s           |++++++++++++++++++++++++                          | 46% ~04s           |++++++++++++++++++++++++                          | 47% ~04s           |+++++++++++++++++++++++++                         | 48% ~04s           |+++++++++++++++++++++++++                         | 49% ~04s           |++++++++++++++++++++++++++                        | 51% ~04s           |++++++++++++++++++++++++++                        | 52% ~04s           |+++++++++++++++++++++++++++                       | 53% ~04s           |+++++++++++++++++++++++++++                       | 54% ~04s           |++++++++++++++++++++++++++++                      | 55% ~04s           |++++++++++++++++++++++++++++                      | 56% ~04s           |+++++++++++++++++++++++++++++                     | 57% ~03s           |+++++++++++++++++++++++++++++                     | 58% ~03s           |++++++++++++++++++++++++++++++                    | 59% ~03s           |++++++++++++++++++++++++++++++                    | 60% ~03s           |+++++++++++++++++++++++++++++++                   | 61% ~03s           |+++++++++++++++++++++++++++++++                   | 62% ~03s           |++++++++++++++++++++++++++++++++                  | 63% ~03s           |++++++++++++++++++++++++++++++++                  | 64% ~03s           |+++++++++++++++++++++++++++++++++                 | 65% ~03s           |+++++++++++++++++++++++++++++++++                 | 66% ~03s           |++++++++++++++++++++++++++++++++++                | 67% ~03s           |++++++++++++++++++++++++++++++++++                | 68% ~03s           |+++++++++++++++++++++++++++++++++++               | 69% ~03s           |+++++++++++++++++++++++++++++++++++               | 70% ~02s           |++++++++++++++++++++++++++++++++++++              | 71% ~02s           |++++++++++++++++++++++++++++++++++++              | 72% ~02s           |+++++++++++++++++++++++++++++++++++++             | 73% ~02s           |+++++++++++++++++++++++++++++++++++++             | 74% ~02s           |++++++++++++++++++++++++++++++++++++++            | 75% ~02s           |++++++++++++++++++++++++++++++++++++++            | 76% ~02s           |+++++++++++++++++++++++++++++++++++++++           | 77% ~02s           |+++++++++++++++++++++++++++++++++++++++           | 78% ~02s           |++++++++++++++++++++++++++++++++++++++++          | 79% ~02s           |++++++++++++++++++++++++++++++++++++++++          | 80% ~02s           |+++++++++++++++++++++++++++++++++++++++++         | 81% ~02s           |+++++++++++++++++++++++++++++++++++++++++         | 82% ~01s           |++++++++++++++++++++++++++++++++++++++++++        | 83% ~01s           |++++++++++++++++++++++++++++++++++++++++++        | 84% ~01s           |+++++++++++++++++++++++++++++++++++++++++++       | 85% ~01s           |+++++++++++++++++++++++++++++++++++++++++++       | 86% ~01s           |++++++++++++++++++++++++++++++++++++++++++++      | 87% ~01s           |++++++++++++++++++++++++++++++++++++++++++++      | 88% ~01s           |+++++++++++++++++++++++++++++++++++++++++++++     | 89% ~01s           |+++++++++++++++++++++++++++++++++++++++++++++     | 90% ~01s           |++++++++++++++++++++++++++++++++++++++++++++++    | 91% ~01s           |++++++++++++++++++++++++++++++++++++++++++++++    | 92% ~01s           |+++++++++++++++++++++++++++++++++++++++++++++++   | 93% ~01s           |+++++++++++++++++++++++++++++++++++++++++++++++   | 94% ~01s           |++++++++++++++++++++++++++++++++++++++++++++++++  | 95% ~00s           |++++++++++++++++++++++++++++++++++++++++++++++++  | 96% ~00s           |+++++++++++++++++++++++++++++++++++++++++++++++++ | 97% ~00s           |+++++++++++++++++++++++++++++++++++++++++++++++++ | 98% ~00s           |++++++++++++++++++++++++++++++++++++++++++++++++++| 99% ~00s           |++++++++++++++++++++++++++++++++++++++++++++++++++| 100% elapsed=08s  \n",
      "Merged the most recent publication of sensor position files for each site and saved to /stackedFiles\n",
      "Copied the most recent publication of variable definition file to /stackedFiles\n",
      "Finished: Stacked 1 data tables and 3 metadata tables!\n",
      "Stacking took 14.45058 secs\n",
      "All unzipped monthly data folders have been removed.\n"
     ]
    },
    {
     "data": {
      "text/plain": [
       "<rpy2.rinterface_lib.sexp.NULLType object at 0x14bcc10d0> [0]"
      ]
     },
     "execution_count": 6,
     "metadata": {},
     "output_type": "execute_result"
    }
   ],
   "source": [
    "# Stack Soil Temperature Data\n",
    "neonUtilities.stackByTable(filepath='/Volumes/Thomas/Tutorials/NEON/Data/filesToStack00041')\n",
    "# Stack Soil CO2 Data\n",
    "neonUtilities.stackByTable(filepath='/Volumes/Thomas/Tutorials/NEON/Data/filesToStack00095')\n",
    "# Stack Soil Water Content Data\n",
    "neonUtilities.stackByTable(filepath='/Volumes/Thomas/Tutorials/NEON/Data/filesToStack00094')"
   ]
  },
  {
   "cell_type": "markdown",
   "id": "ea581018",
   "metadata": {},
   "source": [
    "<div class=\"alert alert-block alert-info\">\n",
    "<b>Remember:</b> Adjust the savepath argument in zipsByProduct() to reflect your desired download location. Similarly, replace the example directory names in stackByTable() with the actual names generated during download.\n",
    "</div>\n",
    "\n",
    "This section demonstrates the process of downloading NEON data directly using the NEON API and organizing it for further analysis. Ensure to execute these steps sequentially to effectively utilize the `neonUtilities` tools for working with NEON data."
   ]
  }
 ],
 "metadata": {
  "kernelspec": {
   "display_name": "Python 3 (ipykernel)",
   "language": "python",
   "name": "python3"
  },
  "language_info": {
   "codemirror_mode": {
    "name": "ipython",
    "version": 3
   },
   "file_extension": ".py",
   "mimetype": "text/x-python",
   "name": "python",
   "nbconvert_exporter": "python",
   "pygments_lexer": "ipython3",
   "version": "3.11.8"
  }
 },
 "nbformat": 4,
 "nbformat_minor": 5
}
